{
 "cells": [
  {
   "cell_type": "markdown",
   "id": "295b1c86",
   "metadata": {},
   "source": [
    "## Zaimportowanie potrzebnych bibliotek oraz plików z kodem źródłowym"
   ]
  },
  {
   "cell_type": "code",
   "execution_count": null,
   "id": "52c77bcc",
   "metadata": {},
   "outputs": [],
   "source": [
    "from dataset import Dataset\n",
    "from utils import split_data\n",
    "from sklearn.ensemble import RandomForestClassifier\n",
    "from sklearn.neural_network import MLPClassifier\n",
    "from strategies import MarginSampling\n",
    "from train import ActiveLearner"
   ]
  },
  {
   "cell_type": "markdown",
   "id": "3fb34a68",
   "metadata": {},
   "source": [
    "## Konfiguracja hiperparametrów"
   ]
  },
  {
   "cell_type": "code",
   "execution_count": 2,
   "id": "495ce9cd",
   "metadata": {},
   "outputs": [],
   "source": [
    "CONFIG = {\n",
    "    \"initial_size\": 0.1,\n",
    "    \"n_queries\": 100,\n",
    "    \"query_size\": 10,\n",
    "    \"test_size\": 0.2,\n",
    "}"
   ]
  },
  {
   "cell_type": "markdown",
   "id": "fe7d738d",
   "metadata": {},
   "source": [
    "## Wczytanie zbioru danych i podział\n"
   ]
  },
  {
   "cell_type": "code",
   "execution_count": null,
   "id": "c32275ec",
   "metadata": {},
   "outputs": [
    {
     "name": "stdout",
     "output_type": "stream",
     "text": [
      "14\n",
      "128\n"
     ]
    }
   ],
   "source": [
    "dataset = Dataset(\"wine\")\n",
    "X, y = dataset.get()\n",
    "\n",
    "X_init, y_init, X_pool, y_pool, X_test, y_test = split_data(X, y, CONFIG[\"initial_size\"], CONFIG[\"test_size\"])"
   ]
  },
  {
   "cell_type": "markdown",
   "id": "a5a80e8b",
   "metadata": {},
   "source": [
    "## Wybór modelu i strategii aktywnego uczenia"
   ]
  },
  {
   "cell_type": "code",
   "execution_count": null,
   "id": "e852b604",
   "metadata": {},
   "outputs": [],
   "source": [
    "model = MLPClassifier()\n",
    "strategy = MarginSampling()"
   ]
  },
  {
   "cell_type": "markdown",
   "id": "550f393e",
   "metadata": {},
   "source": [
    "## Aktywne uczenie się za pomocą klasy ActiveLearner"
   ]
  },
  {
   "cell_type": "code",
   "execution_count": 6,
   "id": "dd44d04c",
   "metadata": {},
   "outputs": [
    {
     "name": "stderr",
     "output_type": "stream",
     "text": [
      "  0%|          | 0/100 [00:00<?, ?it/s]d:\\zum\\.venv\\lib\\site-packages\\sklearn\\metrics\\_classification.py:1565: UndefinedMetricWarning: Precision is ill-defined and being set to 0.0 in labels with no predicted samples. Use `zero_division` parameter to control this behavior.\n",
      "  _warn_prf(average, modifier, f\"{metric.capitalize()} is\", len(result))\n",
      "d:\\zum\\.venv\\lib\\site-packages\\sklearn\\neural_network\\_multilayer_perceptron.py:691: ConvergenceWarning: Stochastic Optimizer: Maximum iterations (200) reached and the optimization hasn't converged yet.\n",
      "  warnings.warn(\n",
      "  3%|▎         | 3/100 [00:00<00:06, 14.93it/s]d:\\zum\\.venv\\lib\\site-packages\\sklearn\\neural_network\\_multilayer_perceptron.py:691: ConvergenceWarning: Stochastic Optimizer: Maximum iterations (200) reached and the optimization hasn't converged yet.\n",
      "  warnings.warn(\n",
      "d:\\zum\\.venv\\lib\\site-packages\\sklearn\\neural_network\\_multilayer_perceptron.py:691: ConvergenceWarning: Stochastic Optimizer: Maximum iterations (200) reached and the optimization hasn't converged yet.\n",
      "  warnings.warn(\n",
      "  5%|▌         | 5/100 [00:00<00:08, 11.15it/s]d:\\zum\\.venv\\lib\\site-packages\\sklearn\\neural_network\\_multilayer_perceptron.py:691: ConvergenceWarning: Stochastic Optimizer: Maximum iterations (200) reached and the optimization hasn't converged yet.\n",
      "  warnings.warn(\n",
      "d:\\zum\\.venv\\lib\\site-packages\\sklearn\\metrics\\_classification.py:1565: UndefinedMetricWarning: Precision is ill-defined and being set to 0.0 in labels with no predicted samples. Use `zero_division` parameter to control this behavior.\n",
      "  _warn_prf(average, modifier, f\"{metric.capitalize()} is\", len(result))\n",
      "  7%|▋         | 7/100 [00:00<00:07, 12.22it/s]d:\\zum\\.venv\\lib\\site-packages\\sklearn\\neural_network\\_multilayer_perceptron.py:691: ConvergenceWarning: Stochastic Optimizer: Maximum iterations (200) reached and the optimization hasn't converged yet.\n",
      "  warnings.warn(\n",
      "  9%|▉         | 9/100 [00:00<00:07, 12.05it/s]d:\\zum\\.venv\\lib\\site-packages\\sklearn\\metrics\\_classification.py:1565: UndefinedMetricWarning: Precision is ill-defined and being set to 0.0 in labels with no predicted samples. Use `zero_division` parameter to control this behavior.\n",
      "  _warn_prf(average, modifier, f\"{metric.capitalize()} is\", len(result))\n",
      "d:\\zum\\.venv\\lib\\site-packages\\sklearn\\metrics\\_classification.py:1565: UndefinedMetricWarning: Precision is ill-defined and being set to 0.0 in labels with no predicted samples. Use `zero_division` parameter to control this behavior.\n",
      "  _warn_prf(average, modifier, f\"{metric.capitalize()} is\", len(result))\n",
      "d:\\zum\\.venv\\lib\\site-packages\\sklearn\\neural_network\\_multilayer_perceptron.py:691: ConvergenceWarning: Stochastic Optimizer: Maximum iterations (200) reached and the optimization hasn't converged yet.\n",
      "  warnings.warn(\n",
      " 12%|█▏        | 12/100 [00:00<00:07, 12.18it/s]"
     ]
    },
    {
     "name": "stdout",
     "output_type": "stream",
     "text": [
      "[{'accuracy': 0.5555555555555556, 'f1_macro': 0.5122938064114534, 'precision': 0.5898692810457516, 'recall': 0.580952380952381}, {'accuracy': 0.5555555555555556, 'f1_macro': 0.4263322884012539, 'precision': 0.3682539682539683, 'recall': 0.5238095238095238}, {'accuracy': 0.8055555555555556, 'f1_macro': 0.8002645502645502, 'precision': 0.8090909090909092, 'recall': 0.8142857142857144}, {'accuracy': 0.9722222222222222, 'f1_macro': 0.9740129935032483, 'precision': 0.9777777777777779, 'recall': 0.9722222222222222}, {'accuracy': 0.9444444444444444, 'f1_macro': 0.9431841096995361, 'precision': 0.9500000000000001, 'recall': 0.9388888888888888}, {'accuracy': 0.7777777777777778, 'f1_macro': 0.7688060731538991, 'precision': 0.8141025641025642, 'recall': 0.7999999999999999}, {'accuracy': 0.4166666666666667, 'f1_macro': 0.31547619047619047, 'precision': 0.3, 'recall': 0.43333333333333335}, {'accuracy': 0.4444444444444444, 'f1_macro': 0.36738906088751294, 'precision': 0.47130647130647124, 'recall': 0.4476190476190476}, {'accuracy': 0.8333333333333334, 'f1_macro': 0.8367316341829086, 'precision': 0.8686274509803922, 'recall': 0.8476190476190476}, {'accuracy': 0.16666666666666666, 'f1_macro': 0.1111111111111111, 'precision': 0.0909090909090909, 'recall': 0.14285714285714285}, {'accuracy': 0.3333333333333333, 'f1_macro': 0.16666666666666666, 'precision': 0.1111111111111111, 'recall': 0.3333333333333333}, {'accuracy': 0.6944444444444444, 'f1_macro': 0.6444444444444444, 'precision': 0.6596491228070175, 'recall': 0.6619047619047619}, {'accuracy': 0.8888888888888888, 'f1_macro': 0.8948370927318295, 'precision': 0.9166666666666666, 'recall': 0.8952380952380952}]\n"
     ]
    },
    {
     "name": "stderr",
     "output_type": "stream",
     "text": [
      "\n"
     ]
    }
   ],
   "source": [
    "active_learner = ActiveLearner(model, strategy)\n",
    "results = active_learner.train(X_init, y_init, X_pool, y_pool, X_test, y_test, CONFIG[\"n_queries\"], CONFIG[\"query_size\"])\n",
    "print(results)"
   ]
  }
 ],
 "metadata": {
  "kernelspec": {
   "display_name": ".venv",
   "language": "python",
   "name": "python3"
  },
  "language_info": {
   "codemirror_mode": {
    "name": "ipython",
    "version": 3
   },
   "file_extension": ".py",
   "mimetype": "text/x-python",
   "name": "python",
   "nbconvert_exporter": "python",
   "pygments_lexer": "ipython3",
   "version": "3.9.13"
  }
 },
 "nbformat": 4,
 "nbformat_minor": 5
}
